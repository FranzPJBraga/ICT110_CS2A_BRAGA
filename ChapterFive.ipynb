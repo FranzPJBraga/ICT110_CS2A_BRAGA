{
 "cells": [
  {
   "cell_type": "markdown",
   "id": "883c0ee6",
   "metadata": {},
   "source": [
    "#### Exercise 1\n",
    "Investigate on the difference between `is` and `==` given the following variables.\n",
    "```python\n",
    "a = 2\n",
    "b = 2.0\n",
    "c = a\n",
    "```"
   ]
  },
  {
   "cell_type": "code",
   "execution_count": 1,
   "id": "e34ef61c",
   "metadata": {},
   "outputs": [
    {
     "name": "stdout",
     "output_type": "stream",
     "text": [
      "a == b\n",
      "b == c\n",
      "c == a\n",
      "c is a\n"
     ]
    }
   ],
   "source": [
    "a = 2\n",
    "b = 2.0\n",
    "c = a\n",
    "if a == b :\n",
    "    print(\"a == b\")\n",
    "if b == c :\n",
    "    print(\"b == c\")\n",
    "if c == a :\n",
    "    print(\"c == a\")\n",
    "    \n",
    "if a is b :\n",
    "    print(\"a is b\")\n",
    "if b is c :\n",
    "    print(\"b is c\")\n",
    "if c is a :\n",
    "    print(\"c is a\")\n",
    "\n",
    "# The 'is' operator in Python is used to check if two variables point to the same object.\n",
    "# Unlike the '==' operator, checks if the values of two objects are equal"
   ]
  },
  {
   "cell_type": "markdown",
   "id": "451d0d24",
   "metadata": {},
   "source": [
    "## CHALLENGES\n",
    "#### Challenge 1\n",
    "Write a program which repeatedly reads numbers until the user enters \"done\". Once \"done\" is entered, print out the total, count, and average of the numbers. If the user enters anything other than a number, detect their mistake using try and except and print an error message and skip to the next number.\n",
    "\n",
    "    Enter a number: 4\n",
    "    Enter a number: 5\n",
    "    Enter a number: bad data\n",
    "    Invalid input\n",
    "    Enter a number: 7\n",
    "    Enter a number: done\n",
    "    16 3 5.333333333333333\n",
    "    \n",
    "[PEW] E5.1"
   ]
  },
  {
   "cell_type": "code",
   "execution_count": 2,
   "id": "37a130db",
   "metadata": {},
   "outputs": [
    {
     "name": "stdout",
     "output_type": "stream",
     "text": [
      "Enter a number: 4\n",
      "Enter a number: 5\n",
      "Enter a number: bad data\n",
      "an error\n",
      "Enter a number: 7\n",
      "Enter a number: done\n",
      "16 3 5.333333333333333\n"
     ]
    }
   ],
   "source": [
    "number = []\n",
    "while True :\n",
    "    enters = input(\"Enter a number: \")\n",
    "    try:\n",
    "        if enters == \"done\" :\n",
    "            break\n",
    "        else :\n",
    "            number.append(int(enters))\n",
    "    except:\n",
    "        print(\"an error\")\n",
    "\n",
    "total = 0\n",
    "count = len(number)\n",
    "for value in number :\n",
    "    total += value\n",
    "\n",
    "average = float(total / count)\n",
    "print(total, count, average)"
   ]
  },
  {
   "cell_type": "markdown",
   "id": "5c4aae5a",
   "metadata": {},
   "source": [
    "#### Challenge 2  \n",
    "Write another program that prompts for a list of numbers as above and at the end prints out both the maximum and minimum of the numbers instead of the average.\n",
    "\n",
    "[PEW] E5.2"
   ]
  },
  {
   "cell_type": "code",
   "execution_count": 3,
   "id": "0a548156",
   "metadata": {},
   "outputs": [
    {
     "name": "stdout",
     "output_type": "stream",
     "text": [
      "Enter a number: 1\n",
      "Enter a number: 2\n",
      "Enter a number: 4\n",
      "Enter a number: 4325645\n",
      "Enter a number: 5\n",
      "Enter a number: done\n",
      "4325645 1\n"
     ]
    }
   ],
   "source": [
    "minimum = 1000\n",
    "maximum = 0\n",
    "while True:\n",
    "    enter = input(\"Enter a number: \")\n",
    "    try:\n",
    "        if enter == \"done\" :\n",
    "            break\n",
    "        else :\n",
    "            minimum = min(minimum, int(enter))\n",
    "            maximum = max(maximum, int(enter))\n",
    "    except:\n",
    "        print(\"an error\")\n",
    "print(maximum, minimum)"
   ]
  }
 ],
 "metadata": {
  "kernelspec": {
   "display_name": "Python 3 (ipykernel)",
   "language": "python",
   "name": "python3"
  },
  "language_info": {
   "codemirror_mode": {
    "name": "ipython",
    "version": 3
   },
   "file_extension": ".py",
   "mimetype": "text/x-python",
   "name": "python",
   "nbconvert_exporter": "python",
   "pygments_lexer": "ipython3",
   "version": "3.11.4"
  }
 },
 "nbformat": 4,
 "nbformat_minor": 5
}
