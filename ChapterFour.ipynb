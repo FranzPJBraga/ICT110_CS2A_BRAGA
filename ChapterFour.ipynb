{
 "cells": [
  {
   "cell_type": "markdown",
   "id": "ed7f5dc1",
   "metadata": {},
   "source": [
    "#### Exercise 1\n",
    "Rewrite your pay computation with time-and-a-half for overtime and create a function called compute pay which takes two parameters (hours and rate).\n",
    "\n",
    "    Enter Hours: 45\n",
    "    Enter Rate: 10\n",
    "    Pay: 475.0\n",
    "    \n",
    "[PEW] E4.6"
   ]
  },
  {
   "cell_type": "code",
   "execution_count": 1,
   "id": "619bb0ae",
   "metadata": {},
   "outputs": [
    {
     "name": "stdout",
     "output_type": "stream",
     "text": [
      "Enter Hours: 45\n",
      "Enter Rate: 10\n",
      "Pay:  475.0\n"
     ]
    }
   ],
   "source": [
    "def compute(hours, rates):\n",
    "    if hours > 40 :\n",
    "        addHours = hours - 40\n",
    "        addRate = addHours * (rates * 1.5)\n",
    "    totalPay = ((hours - addHours) * rate ) + addRate\n",
    "    return totalPay\n",
    "num1 = input(\"Enter Hours: \")\n",
    "num2 = input(\"Enter Rate: \")\n",
    "hour = float(num1)\n",
    "rate = float(num2)\n",
    "Pay = compute(hour, rate)\n",
    "print(\"Pay: \",Pay)"
   ]
  },
  {
   "cell_type": "markdown",
   "id": "2c4a7f16",
   "metadata": {},
   "source": [
    "## CHALLENGE\n",
    "Write a function called computegrade that takes a score as its parameter and returns a grade as a string using the following table:\n",
    "\n",
    "    Score           Grade\n",
    "    [ 97, 100]      1.0\n",
    "    [ 93,  97)\t\t1.25\n",
    "    [ 89,  93)\t\t1.5\n",
    "    [ 85,  89)\t\t1.75\n",
    "    [ 81,  85)\t\t2.0\n",
    "    [ 77,  81)\t\t2.25\n",
    "    [ 74,  77)\t\t2.5\n",
    "    [ 0,   74)\t\t3.0\n",
    "\n",
    "    Run the program repeatedly to test the various different values for input.\n",
    "    \n",
    "Adapted from [PEW] E4.6\n",
    "<br>"
   ]
  },
  {
   "cell_type": "code",
   "execution_count": 2,
   "id": "884c0b80",
   "metadata": {},
   "outputs": [
    {
     "name": "stdout",
     "output_type": "stream",
     "text": [
      "Enter Score: 90\n",
      "Grade:  1.5\n"
     ]
    }
   ],
   "source": [
    "def computegrade(score):\n",
    "    if score >= 97 :\n",
    "        grade = 1.0\n",
    "    elif score >=93 :\n",
    "        grade = 1.25\n",
    "    elif score >= 89 :\n",
    "        grade = 1.5\n",
    "    elif score >= 85 :\n",
    "        grade = 1.75\n",
    "    elif score >= 81 :\n",
    "        grade = 2.0\n",
    "    elif score >= 77 :\n",
    "        grade = 2.25\n",
    "    elif score >= 74 :\n",
    "        grade = 2.5\n",
    "    elif score >= 0 :\n",
    "        grade = 3.0\n",
    "    else :\n",
    "        grade = 5.0\n",
    "    return str(grade)\n",
    "\n",
    "scoreInput = input(\"Enter Score: \")\n",
    "score = int(scoreInput)\n",
    "grade = computegrade(score)\n",
    "print(\"Grade: \", grade)"
   ]
  }
 ],
 "metadata": {
  "kernelspec": {
   "display_name": "Python 3 (ipykernel)",
   "language": "python",
   "name": "python3"
  },
  "language_info": {
   "codemirror_mode": {
    "name": "ipython",
    "version": 3
   },
   "file_extension": ".py",
   "mimetype": "text/x-python",
   "name": "python",
   "nbconvert_exporter": "python",
   "pygments_lexer": "ipython3",
   "version": "3.11.4"
  }
 },
 "nbformat": 4,
 "nbformat_minor": 5
}
