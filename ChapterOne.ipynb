{
 "cells": [
  {
   "cell_type": "markdown",
   "id": "f97dd0ab",
   "metadata": {},
   "source": [
    "#### Exercise 1\n",
    "Each line of code below contains an error. Fix the error and explain in a comment the reason for the error."
   ]
  },
  {
   "cell_type": "code",
   "execution_count": 1,
   "id": "8779f672",
   "metadata": {},
   "outputs": [
    {
     "name": "stdout",
     "output_type": "stream",
     "text": [
      "Hello world!\n"
     ]
    }
   ],
   "source": [
    "# Case-sentisive need p not P\n",
    "print('Hello world!')"
   ]
  },
  {
   "cell_type": "code",
   "execution_count": 2,
   "id": "b30c61b2",
   "metadata": {},
   "outputs": [
    {
     "name": "stdout",
     "output_type": "stream",
     "text": [
      "Hello world!\n"
     ]
    }
   ],
   "source": [
    "# no open quotation\n",
    "print('Hello world!')"
   ]
  },
  {
   "cell_type": "code",
   "execution_count": 3,
   "id": "476c16f9",
   "metadata": {},
   "outputs": [
    {
     "name": "stdout",
     "output_type": "stream",
     "text": [
      "Hello world!\n"
     ]
    }
   ],
   "source": [
    "# absent of quotation at the end of !\n",
    "print('Hello world!')"
   ]
  },
  {
   "cell_type": "code",
   "execution_count": 4,
   "id": "e2222800",
   "metadata": {},
   "outputs": [
    {
     "name": "stdout",
     "output_type": "stream",
     "text": [
      "Hello world!\n"
     ]
    }
   ],
   "source": [
    "# unnecessary quotation mark\n",
    "print('Hello world!')"
   ]
  },
  {
   "cell_type": "markdown",
   "id": "1c9e4dbb",
   "metadata": {},
   "source": [
    "#### Exercise 2\n",
    "What is the output of the code below?"
   ]
  },
  {
   "cell_type": "code",
   "execution_count": 5,
   "id": "644bcc9f",
   "metadata": {},
   "outputs": [
    {
     "name": "stdout",
     "output_type": "stream",
     "text": [
      "the answer is 44\n",
      "44\n"
     ]
    }
   ],
   "source": [
    "print(\"the answer is 44\")\n",
    "x = 43\n",
    "x = x + 1\n",
    "print(x)"
   ]
  },
  {
   "cell_type": "markdown",
   "id": "655a6ec0",
   "metadata": {},
   "source": [
    "#### Exercise 3\n",
    "The code below contains an error. Fix the error and explain in a comment the reason for the error."
   ]
  },
  {
   "cell_type": "code",
   "execution_count": 6,
   "id": "8b9f5c40",
   "metadata": {},
   "outputs": [
    {
     "name": "stdout",
     "output_type": "stream",
     "text": [
      "44\n"
     ]
    }
   ],
   "source": [
    "# also the variables are case-sensitive, if you use x do not use X\n",
    "x = 43\n",
    "x = x + 1\n",
    "print(x)"
   ]
  }
 ],
 "metadata": {
  "kernelspec": {
   "display_name": "Python 3 (ipykernel)",
   "language": "python",
   "name": "python3"
  },
  "language_info": {
   "codemirror_mode": {
    "name": "ipython",
    "version": 3
   },
   "file_extension": ".py",
   "mimetype": "text/x-python",
   "name": "python",
   "nbconvert_exporter": "python",
   "pygments_lexer": "ipython3",
   "version": "3.11.4"
  }
 },
 "nbformat": 4,
 "nbformat_minor": 5
}
