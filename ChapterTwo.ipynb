{
 "cells": [
  {
   "cell_type": "markdown",
   "id": "a38f1502",
   "metadata": {},
   "source": [
    "#### Exercise 1\n",
    "Write a program that uses input to prompt a user for their name and then welcomes them.\n",
    "```\n",
    "Enter your name: Chuck\n",
    "Hello Chuck\n",
    "```\n",
    "\n",
    "[PEW] E2.2"
   ]
  },
  {
   "cell_type": "code",
   "execution_count": 6,
   "id": "62ddb785",
   "metadata": {},
   "outputs": [
    {
     "name": "stdout",
     "output_type": "stream",
     "text": [
      "Enter your name: Chuck\n",
      "Hello Chuck\n"
     ]
    }
   ],
   "source": [
    "x = input('Enter your name: ')\n",
    "print('Hello', x)"
   ]
  },
  {
   "cell_type": "markdown",
   "id": "5a83d022",
   "metadata": {},
   "source": [
    "#### Exercise 2\n",
    "Write a program to prompt the user for hours and rate per hour to compute gross pay.\n",
    "```\n",
    "Enter Hours: 35\n",
    "Enter Rate: 2.75\n",
    "Pay: 96.25\n",
    "```\n",
    "\n",
    "[PEW] E2.3"
   ]
  },
  {
   "cell_type": "code",
   "execution_count": 2,
   "id": "778d0547",
   "metadata": {},
   "outputs": [
    {
     "name": "stdout",
     "output_type": "stream",
     "text": [
      "Enter Hours: 1\n",
      "Enter Rate: 2\n",
      "Pay:  2.0\n"
     ]
    }
   ],
   "source": [
    "x = input('Enter Hours: ')\n",
    "y = input('Enter Rate: ')\n",
    "hrs = float(x)\n",
    "rte = float(y)\n",
    "py = hrs * rte\n",
    "print('Pay: ', py)"
   ]
  },
  {
   "cell_type": "markdown",
   "id": "975cec1d",
   "metadata": {},
   "source": [
    "#### Exercise 3\n",
    "Assume that we execute the following assignment statements:\n",
    "```python\n",
    "width = 17\n",
    "height = 12.0\n",
    "```\n",
    "For each of the following expressions, write the value of the expression and the type (of the value of the expression).\n",
    "```python\n",
    "width//2\n",
    "width/2.0\n",
    "height/3\n",
    "1 + 2 * 5\n",
    "```\n",
    "\n",
    "[PEW] E2.4"
   ]
  },
  {
   "cell_type": "code",
   "execution_count": 3,
   "id": "32bd79f7",
   "metadata": {},
   "outputs": [
    {
     "name": "stdout",
     "output_type": "stream",
     "text": [
      "8 <class 'int'>\n",
      "8.5 <class 'float'>\n",
      "4.0 <class 'float'>\n",
      "11 <class 'int'>\n"
     ]
    }
   ],
   "source": [
    "width = 17\n",
    "height = 12.0\n",
    "print(width//2, type(width//2))\n",
    "print(width/2.0, type(width/2.0))\n",
    "print(height/3, type(height/3))\n",
    "print(1 + 2 * 5, type(1 + 2 * 5))"
   ]
  },
  {
   "cell_type": "markdown",
   "id": "e1dad9d4",
   "metadata": {},
   "source": [
    "#### Exercise 4\n",
    "\n",
    "Write a program that uses input to prompt a user for a number and then outputs the square of the number\n",
    "```\n",
    "Enter a number: 3\n",
    "The square of 3 is 9\n",
    "```"
   ]
  },
  {
   "cell_type": "code",
   "execution_count": 4,
   "id": "6bfcb1fa",
   "metadata": {},
   "outputs": [
    {
     "name": "stdout",
     "output_type": "stream",
     "text": [
      "Enter a number: 2\n",
      "The square of 2 is 4\n"
     ]
    }
   ],
   "source": [
    "x = input('Enter a number: ')\n",
    "y = int(x)\n",
    "y*=y\n",
    "print('The square of',x, 'is', y)"
   ]
  },
  {
   "cell_type": "markdown",
   "id": "edee852c",
   "metadata": {},
   "source": [
    "## CHALLENGE\n",
    "Write a program which prompts the user for a Celsius temperature, convert the temperature to Fahrenheit, and print out the converted temperature.\n",
    "\n",
    "[PEW] E2.5"
   ]
  },
  {
   "cell_type": "code",
   "execution_count": 5,
   "id": "fddfc05a",
   "metadata": {},
   "outputs": [
    {
     "name": "stdout",
     "output_type": "stream",
     "text": [
      "Enter  Celsius Temperature: 32\n",
      "Converted Fahrenheit:  89.6\n"
     ]
    }
   ],
   "source": [
    "Celsius = input(\"Enter  Celsius Temperature: \")\n",
    "Fahrenheit = int(Celsius) * (9/5) + 32\n",
    "print(\"Converted Fahrenheit: \", Fahrenheit)"
   ]
  }
 ],
 "metadata": {
  "kernelspec": {
   "display_name": "Python 3 (ipykernel)",
   "language": "python",
   "name": "python3"
  },
  "language_info": {
   "codemirror_mode": {
    "name": "ipython",
    "version": 3
   },
   "file_extension": ".py",
   "mimetype": "text/x-python",
   "name": "python",
   "nbconvert_exporter": "python",
   "pygments_lexer": "ipython3",
   "version": "3.11.4"
  }
 },
 "nbformat": 4,
 "nbformat_minor": 5
}
