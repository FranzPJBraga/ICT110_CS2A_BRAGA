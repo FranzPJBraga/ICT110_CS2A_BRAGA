{
 "cells": [
  {
   "cell_type": "markdown",
   "id": "da2b8c8c",
   "metadata": {},
   "source": [
    "#### Exercise 1\n",
    "In the code below, which will never print regardless of the value for x? Edit the code to correct the error.\n",
    "\n",
    "```python\n",
    "if x > 0 :\n",
    "    print('Above 0')\n",
    "elif x >  10 :\n",
    "    print('Above 10')\n",
    "elif x > 50 :\n",
    "    print('Above 50')\n",
    "elif x >  20 :\n",
    "    print('Above 20')\n",
    "else :\n",
    "    print('Something else')\n",
    "```"
   ]
  },
  {
   "cell_type": "code",
   "execution_count": 2,
   "id": "c9cdf7b0",
   "metadata": {},
   "outputs": [
    {
     "name": "stdout",
     "output_type": "stream",
     "text": [
      "Enter value of x: -1\n",
      "Something else\n"
     ]
    }
   ],
   "source": [
    "number = input(\"Enter value of x: \")\n",
    "x = int(number)\n",
    "if x > 50 :\n",
    "    print('Above 50')\n",
    "elif x > 20 :\n",
    "    print('Above 20')\n",
    "elif x > 10 :\n",
    "    print('Above 10')\n",
    "elif x > 0 :\n",
    "    print('Above 0')\n",
    "else :\n",
    "    print('Something else')"
   ]
  },
  {
   "cell_type": "markdown",
   "id": "fea51c63",
   "metadata": {},
   "source": [
    "#### Exercise 2\n",
    "Write your salary computation to give an employee 1.5 times the hourly rate for hours worked above 40 hours. Example:\n",
    "\n",
    "    Enter Hours: 45\n",
    "    Enter Rate: 10\n",
    "    Pay: 475.0\n",
    "    \n",
    "[PEW] E3.2"
   ]
  },
  {
   "cell_type": "code",
   "execution_count": 3,
   "id": "356b0530",
   "metadata": {
    "scrolled": true
   },
   "outputs": [
    {
     "name": "stdout",
     "output_type": "stream",
     "text": [
      "Enter Hours: 45\n",
      "Enter Rate: 10\n",
      "Pay: 475.0\n"
     ]
    }
   ],
   "source": [
    "num1 = input(\"Enter Hours: \")\n",
    "num2 = input(\"Enter Rate: \")\n",
    "hrs = float(num1)\n",
    "rte = float(num2)\n",
    "if hrs > 40 :\n",
    "    py = ((hrs - 40) * (1.5 * rte)) + (40 * rte)\n",
    "else :\n",
    "    py = hrs * rte\n",
    "print(\"Pay:\", py)"
   ]
  },
  {
   "cell_type": "markdown",
   "id": "4988443c",
   "metadata": {},
   "source": [
    "## CHALLENGE\n",
    "Write a program to prompt for a score between 0 and 100 and print a grade using the following table:\n",
    "\n",
    "    Score           Grade\n",
    "    [ 97, 100]      1.0\n",
    "    [ 93,  97)\t\t1.25\n",
    "    [ 89,  93)\t\t1.5\n",
    "    [ 85,  89)\t\t1.75\n",
    "    [ 81,  85)\t\t2.0\n",
    "    [ 77,  81)\t\t2.25\n",
    "    [ 74,  77)\t\t2.5\n",
    "    [ 0,   74)\t\t3.0\n",
    "\n",
    "Adapted from [PEW] E3.3\n",
    "<br>"
   ]
  },
  {
   "cell_type": "code",
   "execution_count": 4,
   "id": "20f2eff9",
   "metadata": {},
   "outputs": [
    {
     "name": "stdout",
     "output_type": "stream",
     "text": [
      "prompt for a score between 0 and 100: -1\n",
      "Grade 5.0\n"
     ]
    }
   ],
   "source": [
    "num = input(\"prompt for a score between 0 and 100: \" )\n",
    "score = int(num)\n",
    "if score >= 97 :\n",
    "    grade = 1.0\n",
    "elif score >=93 :\n",
    "    grade = 1.25\n",
    "elif score >= 89 :\n",
    "    grade = 1.5\n",
    "elif score >= 85 :\n",
    "    grade = 1.75\n",
    "elif score >= 81 :\n",
    "    grade = 2.0\n",
    "elif score >= 77 :\n",
    "    grade = 2.25\n",
    "elif score >= 74 :\n",
    "    grade = 2.5\n",
    "elif score >= 0 :\n",
    "    grade = 3.0\n",
    "else :\n",
    "    grade = 5.0\n",
    "print(\"Grade\", grade)"
   ]
  }
 ],
 "metadata": {
  "kernelspec": {
   "display_name": "Python 3 (ipykernel)",
   "language": "python",
   "name": "python3"
  },
  "language_info": {
   "codemirror_mode": {
    "name": "ipython",
    "version": 3
   },
   "file_extension": ".py",
   "mimetype": "text/x-python",
   "name": "python",
   "nbconvert_exporter": "python",
   "pygments_lexer": "ipython3",
   "version": "3.11.4"
  }
 },
 "nbformat": 4,
 "nbformat_minor": 5
}
