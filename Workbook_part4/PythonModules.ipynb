{
 "cells": [
  {
   "cell_type": "markdown",
   "id": "cac9b3ed",
   "metadata": {},
   "source": [
    "## EXERCISES"
   ]
  },
  {
   "cell_type": "markdown",
   "id": "7f8373bd",
   "metadata": {},
   "source": [
    "#### Exercise 1\n",
    "Adapted from [TCS] Appendix D, Exercise 2\n",
    "\n",
    "Open help for the math module.\n",
    "\n",
    "- What are the constants in the math module?\n",
    "- What's does `math.exp` do? What about `math.pow`?  \n",
    "- How do you calculate logarithms? Logarithms base 10? Natural Logarithms?\n"
   ]
  },
  {
   "cell_type": "code",
   "execution_count": null,
   "id": "66f580fc",
   "metadata": {
    "scrolled": true
   },
   "outputs": [],
   "source": [
    "#What are the constants in the math module?\n",
    "import math\n",
    "# use dir() or help()\n",
    "help(math)"
   ]
  },
  {
   "cell_type": "code",
   "execution_count": null,
   "id": "51fbd66b",
   "metadata": {
    "scrolled": false
   },
   "outputs": [],
   "source": [
    "#What's does `math.exp` do? What about `math.pow`? \n",
    "help(math.exp)\n",
    "help(math.pow)"
   ]
  },
  {
   "cell_type": "code",
   "execution_count": null,
   "id": "53ce1a55",
   "metadata": {
    "scrolled": true
   },
   "outputs": [],
   "source": [
    "#How do you calculate logarithms? Logarithms base 10? Natural Logarithms?\n",
    "help(math.log)\n",
    "help(math.log10)"
   ]
  },
  {
   "cell_type": "markdown",
   "id": "07f718f4",
   "metadata": {},
   "source": [
    "#### Exercise 2\n",
    "- Create your own module.\n",
    "- Place variables and functions inside it.\n",
    "- Import your module and use the variabls and functions you've created in the module.\n",
    "- Try to add docstrings for the module and the functions\n",
    "\n",
    "[あ]\n"
   ]
  },
  {
   "cell_type": "code",
   "execution_count": 15,
   "id": "c37b361d",
   "metadata": {},
   "outputs": [],
   "source": [
    "import myModule"
   ]
  },
  {
   "cell_type": "code",
   "execution_count": 16,
   "id": "7c9c8742",
   "metadata": {
    "scrolled": true
   },
   "outputs": [
    {
     "name": "stdout",
     "output_type": "stream",
     "text": [
      "Hello World! my name is Franz Peter Joseph D. Braga\n"
     ]
    }
   ],
   "source": [
    "k = myModule.word\n",
    "print(k)"
   ]
  },
  {
   "cell_type": "code",
   "execution_count": 20,
   "id": "9f73b303",
   "metadata": {
    "scrolled": true
   },
   "outputs": [
    {
     "name": "stdout",
     "output_type": "stream",
     "text": [
      "Enter total number of months contribution: 24\n",
      "The loanable amount is: 1440.0\n"
     ]
    }
   ],
   "source": [
    "inp = input('Enter total number of months contribution: ')\n",
    "total = int(inp)\n",
    "LoanableAmount = myModule.calculateLoan(total)\n",
    "print('The loanable amount is:', LoanableAmount)"
   ]
  }
 ],
 "metadata": {
  "kernelspec": {
   "display_name": "Python 3 (ipykernel)",
   "language": "python",
   "name": "python3"
  },
  "language_info": {
   "codemirror_mode": {
    "name": "ipython",
    "version": 3
   },
   "file_extension": ".py",
   "mimetype": "text/x-python",
   "name": "python",
   "nbconvert_exporter": "python",
   "pygments_lexer": "ipython3",
   "version": "3.11.5"
  }
 },
 "nbformat": 4,
 "nbformat_minor": 5
}
