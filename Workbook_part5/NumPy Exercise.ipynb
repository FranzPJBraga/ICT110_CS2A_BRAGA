{
 "cells": [
  {
   "cell_type": "markdown",
   "id": "77d12818",
   "metadata": {},
   "source": [
    "### Exercise\n",
    "\n",
    "A. Create an ndarry object (A) with any values from 1 to 100 in a nested Python List. You can choose your range from the given values (1-100).\n",
    "\n",
    "* Given that A is an ndarray object, many functionalities in numpy could be accessed by:\n",
    "    + Make sure to explain each line of codes that you have created.\n",
    "\n",
    "1. Using a property of the ndarray object\n",
    "      - e.g. `A.shape`\n",
    "2. Using a method of the ndarray object\n",
    "      - e.g. `A.max()`\n",
    "3. Using a numpy function and passing an ndarray\n",
    "     - e.g. `np.max(A)`\n",
    "\n",
    "B. Create a 5x5 integer-array filled with ones.\n",
    "* Check its shape, size, and number of dimensions. Explain briefly the codes you have created by writing a comment beside the code.\n",
    "\n",
    "C. Create an array of values from -5 to + 5. Multiply each value with 2. Print the resulting array."
   ]
  },
  {
   "cell_type": "code",
   "execution_count": 1,
   "id": "35948bfd",
   "metadata": {},
   "outputs": [
    {
     "name": "stdout",
     "output_type": "stream",
     "text": [
      "[1 2 3 4 5]\n",
      "Shape: (5,)\n",
      "Max: 5\n",
      "Max using numpy: 5\n"
     ]
    }
   ],
   "source": [
    "import numpy as np  # This is how to import numpy and assigning as np\n",
    "A = np.array([1, 2, 3, 4, 5])  # initialize an array \n",
    "print(A) # print the value of A\n",
    "print(\"Shape:\", A.shape) # print the size of each dimension of an array\n",
    "print(\"Max:\", A.max()) # print total value of elements in an array\n",
    "print(\"Max using numpy:\", np.max(A)) # print total value of elements in an array by using the function of numpy"
   ]
  },
  {
   "cell_type": "code",
   "execution_count": 2,
   "id": "e07ed529",
   "metadata": {},
   "outputs": [
    {
     "name": "stdout",
     "output_type": "stream",
     "text": [
      "[[1 1 1 1 1]\n",
      " [1 1 1 1 1]\n",
      " [1 1 1 1 1]\n",
      " [1 1 1 1 1]\n",
      " [1 1 1 1 1]]\n",
      "(5, 5)\n",
      "25\n",
      "2\n"
     ]
    }
   ],
   "source": [
    "B = np.ones((5, 5), dtype=int) # B has a value of an  5X5 array with a data type of an integer all filled with ones\n",
    "print(B) # print value of B\n",
    "print(B.shape) # print the size of each dimension in the array B\n",
    "print(B.size) # print the total size of the array B\n",
    "print(np.ndim(B)) # print numbers of dimension in the array B"
   ]
  },
  {
   "cell_type": "markdown",
   "id": "60539836",
   "metadata": {},
   "source": [
    "### Exercise\n",
    "\n",
    "A. Choose the values from the range of numbers 1 to 100.\n",
    "1. Create an array with 30 values within the range of numbers given. You can choose your own start value and stop value. However, the incrementing value will be 2.\n",
    "   * Explain what is the result briefly by writing a comment before the code.\n",
    "2. Multiply the resulting array with 3. Print the result."
   ]
  },
  {
   "cell_type": "code",
   "execution_count": 4,
   "id": "2b633120",
   "metadata": {},
   "outputs": [
    {
     "name": "stdout",
     "output_type": "stream",
     "text": [
      "[ 30  36  42  48  54  60  66  72  78  84  90  96 102 108 114 120 126 132\n",
      " 138 144 150 156 162 168 174 180 186 192 198 204]\n"
     ]
    }
   ],
   "source": [
    "import numpy as np\n",
    "A1 = np.arange(10, 70, 2) # created an array with 30 values within range of numbers given with an increment of 2\n",
    "\n",
    "#print(A1) # print the A1 with just 30 values in it\n",
    "#print(A1.size) # print the total size of the array\n",
    "\n",
    "A2 = (A1 * 3) # Multiply the resulting array by 3\n",
    "print(A2) # Print the result"
   ]
  },
  {
   "cell_type": "markdown",
   "id": "e1542f38",
   "metadata": {},
   "source": [
    "### Exercise\n",
    "\n",
    "A. Create a four-dimensional array of random integers in the interval [0, 12]. Print the result.\n",
    "1. Get the dimensions, shape, and size.\n",
    "    * Explain what is the result briefly by writing a comment before the code.\n",
    "\n",
    "B. Get the maximum number for each dimensions and display it.\n",
    "   * Explain what is the result briefly by writing a comment before the code.\n",
    "\n",
    "C. Multipy each array with 4. What is its result?\n",
    "    * Write a brief explanation on the multiplication process.\n"
   ]
  },
  {
   "cell_type": "code",
   "execution_count": 5,
   "id": "1e5281c2",
   "metadata": {},
   "outputs": [
    {
     "name": "stdout",
     "output_type": "stream",
     "text": [
      "[[[[ 4 12  6  9  7 11]\n",
      "   [ 6 12  1  7  5  2]\n",
      "   [ 0  1  3 10 11 10]\n",
      "   [ 6 10  8  3  9  1]\n",
      "   [ 9  8 11  7 12  4]]\n",
      "\n",
      "  [[ 0  9  8  6 10  3]\n",
      "   [ 4  9  8  5  7  8]\n",
      "   [ 8 12 10 12 11  4]\n",
      "   [ 3  3  3  1  2  6]\n",
      "   [ 6 12 12  4  1 12]]\n",
      "\n",
      "  [[ 2  7  9 11  7  8]\n",
      "   [ 1 11  8  0 11  3]\n",
      "   [ 0 12  4  6  9  0]\n",
      "   [ 2 10 10  9  6 12]\n",
      "   [ 4  7 11  5  8  0]]\n",
      "\n",
      "  [[ 9  9  7  4  9 10]\n",
      "   [ 4  8  9  2  2 12]\n",
      "   [ 2  8  0  5 10  5]\n",
      "   [ 2  0 11  2  8  6]\n",
      "   [11 11  4  9  5  9]]]\n",
      "\n",
      "\n",
      " [[[ 9 12  2  7  4  5]\n",
      "   [11  2 12  9  5  3]\n",
      "   [12  3  1  4  0 10]\n",
      "   [ 4  9 10  1  3  7]\n",
      "   [ 9  6 11  4  6  1]]\n",
      "\n",
      "  [[12 12  4  1  2  9]\n",
      "   [ 9  3  3  0  4  8]\n",
      "   [12  8  6  4 11  9]\n",
      "   [ 2  8  6  3  4  2]\n",
      "   [ 7 10  0  7  2  0]]\n",
      "\n",
      "  [[ 5  8  6  7  3  2]\n",
      "   [ 7 11 10  1 11  7]\n",
      "   [ 5  3 12  5  4  1]\n",
      "   [ 4  5 11 12  4  1]\n",
      "   [11  6 12 11  8  4]]\n",
      "\n",
      "  [[12 11  7  1  1 11]\n",
      "   [ 7  7  7  1 11  3]\n",
      "   [ 8  3  3  1 12  6]\n",
      "   [ 3  6 12  7  4 11]\n",
      "   [ 4  1  1  6  8 11]]]\n",
      "\n",
      "\n",
      " [[[ 5  0 12  6  2  5]\n",
      "   [ 5 12 11 11  0  3]\n",
      "   [ 8  1  7  7  9  5]\n",
      "   [ 7  8  6  8  2  0]\n",
      "   [ 6  2  7  4  2 12]]\n",
      "\n",
      "  [[ 2  1  0 11 11  8]\n",
      "   [ 3 10  2  0 12 11]\n",
      "   [ 8  8  8  6  2 11]\n",
      "   [ 0  6  1  2  6  0]\n",
      "   [ 2  5  9  2  9 11]]\n",
      "\n",
      "  [[ 1  5  9  8  7  0]\n",
      "   [ 2  1  5 12  5  3]\n",
      "   [ 4  2  9  6 10  5]\n",
      "   [ 6  3  4  4  5  3]\n",
      "   [ 8  8  8  6  7  3]]\n",
      "\n",
      "  [[10 12  9  7  6  3]\n",
      "   [ 5  0 11  6  8  7]\n",
      "   [ 2  8  0  6  8  1]\n",
      "   [ 8 11  0  6  4  0]\n",
      "   [ 0 12  2  1 10  2]]]]\n",
      "4\n",
      "(3, 4, 5, 6)\n",
      "360\n"
     ]
    }
   ],
   "source": [
    "import numpy as np\n",
    "array4D = np.random.randint(0, 13, size=(3, 4, 5, 6))\n",
    "print(array4D) # Print the array\n",
    "print(np.ndim(array4D)) # print the dimensions of the array using the function of numpy\n",
    "print(array4D.shape) # print size of each dimension\n",
    "print(array4D.size) # print the total size of the array"
   ]
  },
  {
   "cell_type": "code",
   "execution_count": 6,
   "id": "6b67aff6",
   "metadata": {},
   "outputs": [
    {
     "name": "stdout",
     "output_type": "stream",
     "text": [
      "12\n"
     ]
    }
   ],
   "source": [
    "max4D = np.max(array4D, axis=(0, 1, 2, 3)) # Using the function of numpy to get the maximum number for each dimensions\n",
    "print(max4D) # Print the maximum number for each dimension"
   ]
  },
  {
   "cell_type": "code",
   "execution_count": 7,
   "id": "68e67666",
   "metadata": {},
   "outputs": [
    {
     "name": "stdout",
     "output_type": "stream",
     "text": [
      "[[[[16 48 24 36 28 44]\n",
      "   [24 48  4 28 20  8]\n",
      "   [ 0  4 12 40 44 40]\n",
      "   [24 40 32 12 36  4]\n",
      "   [36 32 44 28 48 16]]\n",
      "\n",
      "  [[ 0 36 32 24 40 12]\n",
      "   [16 36 32 20 28 32]\n",
      "   [32 48 40 48 44 16]\n",
      "   [12 12 12  4  8 24]\n",
      "   [24 48 48 16  4 48]]\n",
      "\n",
      "  [[ 8 28 36 44 28 32]\n",
      "   [ 4 44 32  0 44 12]\n",
      "   [ 0 48 16 24 36  0]\n",
      "   [ 8 40 40 36 24 48]\n",
      "   [16 28 44 20 32  0]]\n",
      "\n",
      "  [[36 36 28 16 36 40]\n",
      "   [16 32 36  8  8 48]\n",
      "   [ 8 32  0 20 40 20]\n",
      "   [ 8  0 44  8 32 24]\n",
      "   [44 44 16 36 20 36]]]\n",
      "\n",
      "\n",
      " [[[36 48  8 28 16 20]\n",
      "   [44  8 48 36 20 12]\n",
      "   [48 12  4 16  0 40]\n",
      "   [16 36 40  4 12 28]\n",
      "   [36 24 44 16 24  4]]\n",
      "\n",
      "  [[48 48 16  4  8 36]\n",
      "   [36 12 12  0 16 32]\n",
      "   [48 32 24 16 44 36]\n",
      "   [ 8 32 24 12 16  8]\n",
      "   [28 40  0 28  8  0]]\n",
      "\n",
      "  [[20 32 24 28 12  8]\n",
      "   [28 44 40  4 44 28]\n",
      "   [20 12 48 20 16  4]\n",
      "   [16 20 44 48 16  4]\n",
      "   [44 24 48 44 32 16]]\n",
      "\n",
      "  [[48 44 28  4  4 44]\n",
      "   [28 28 28  4 44 12]\n",
      "   [32 12 12  4 48 24]\n",
      "   [12 24 48 28 16 44]\n",
      "   [16  4  4 24 32 44]]]\n",
      "\n",
      "\n",
      " [[[20  0 48 24  8 20]\n",
      "   [20 48 44 44  0 12]\n",
      "   [32  4 28 28 36 20]\n",
      "   [28 32 24 32  8  0]\n",
      "   [24  8 28 16  8 48]]\n",
      "\n",
      "  [[ 8  4  0 44 44 32]\n",
      "   [12 40  8  0 48 44]\n",
      "   [32 32 32 24  8 44]\n",
      "   [ 0 24  4  8 24  0]\n",
      "   [ 8 20 36  8 36 44]]\n",
      "\n",
      "  [[ 4 20 36 32 28  0]\n",
      "   [ 8  4 20 48 20 12]\n",
      "   [16  8 36 24 40 20]\n",
      "   [24 12 16 16 20 12]\n",
      "   [32 32 32 24 28 12]]\n",
      "\n",
      "  [[40 48 36 28 24 12]\n",
      "   [20  0 44 24 32 28]\n",
      "   [ 8 32  0 24 32  4]\n",
      "   [32 44  0 24 16  0]\n",
      "   [ 0 48  8  4 40  8]]]]\n"
     ]
    }
   ],
   "source": [
    "multiply4D = array4D * 4 # Multipy each array with 4\n",
    "print(multiply4D) # Each element in the array4D is multiplied by 4, resulting in a new array where all values are four times larger than the original values."
   ]
  }
 ],
 "metadata": {
  "kernelspec": {
   "display_name": "Python 3 (ipykernel)",
   "language": "python",
   "name": "python3"
  },
  "language_info": {
   "codemirror_mode": {
    "name": "ipython",
    "version": 3
   },
   "file_extension": ".py",
   "mimetype": "text/x-python",
   "name": "python",
   "nbconvert_exporter": "python",
   "pygments_lexer": "ipython3",
   "version": "3.11.5"
  }
 },
 "nbformat": 4,
 "nbformat_minor": 5
}
